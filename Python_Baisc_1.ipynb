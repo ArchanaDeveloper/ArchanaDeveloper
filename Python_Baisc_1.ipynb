{
  "cells": [
    {
      "cell_type": "markdown",
      "metadata": {
        "id": "view-in-github",
        "colab_type": "text"
      },
      "source": [
        "<a href=\"https://colab.research.google.com/github/ArchanaDeveloper/ArchanaDeveloper/blob/main/Python_Baisc_1.ipynb\" target=\"_parent\"><img src=\"https://colab.research.google.com/assets/colab-badge.svg\" alt=\"Open In Colab\"/></a>"
      ]
    },
    {
      "cell_type": "code",
      "execution_count": null,
      "id": "554a874e",
      "metadata": {
        "id": "554a874e"
      },
      "outputs": [],
      "source": [
        "#list"
      ]
    },
    {
      "cell_type": "code",
      "execution_count": null,
      "id": "f6556b7e",
      "metadata": {
        "id": "f6556b7e"
      },
      "outputs": [],
      "source": [
        "b = 'dravid'"
      ]
    },
    {
      "cell_type": "code",
      "execution_count": null,
      "id": "929c024d",
      "metadata": {
        "id": "929c024d"
      },
      "outputs": [],
      "source": [
        "a = [1,b,'sachin', 50.5, True,1] # ordered, mutable, dynamic, it will allow duplicate items"
      ]
    },
    {
      "cell_type": "code",
      "execution_count": null,
      "id": "54a23f10",
      "metadata": {
        "id": "54a23f10"
      },
      "outputs": [],
      "source": [
        "a"
      ]
    },
    {
      "cell_type": "code",
      "execution_count": null,
      "id": "4afdef96",
      "metadata": {
        "id": "4afdef96"
      },
      "outputs": [],
      "source": [
        "a"
      ]
    },
    {
      "cell_type": "code",
      "execution_count": null,
      "id": "e06924fe",
      "metadata": {
        "id": "e06924fe"
      },
      "outputs": [],
      "source": [
        "b = ['sachin', 'dravid', ['virat', 'pant']]"
      ]
    },
    {
      "cell_type": "code",
      "execution_count": null,
      "id": "cc2f855e",
      "metadata": {
        "id": "cc2f855e"
      },
      "outputs": [],
      "source": [
        "b"
      ]
    },
    {
      "cell_type": "code",
      "execution_count": null,
      "id": "83d4ec3b",
      "metadata": {
        "id": "83d4ec3b"
      },
      "outputs": [],
      "source": [
        "f = b[2]"
      ]
    },
    {
      "cell_type": "code",
      "execution_count": null,
      "id": "4591c2e2",
      "metadata": {
        "id": "4591c2e2"
      },
      "outputs": [],
      "source": [
        "f[1]"
      ]
    },
    {
      "cell_type": "code",
      "execution_count": null,
      "id": "0d398899",
      "metadata": {
        "id": "0d398899"
      },
      "outputs": [],
      "source": []
    },
    {
      "cell_type": "code",
      "execution_count": null,
      "id": "1aec53bd",
      "metadata": {
        "id": "1aec53bd"
      },
      "outputs": [],
      "source": [
        "a = [1,2,3,4,5,6]"
      ]
    },
    {
      "cell_type": "code",
      "execution_count": null,
      "id": "7af9cb7e",
      "metadata": {
        "id": "7af9cb7e"
      },
      "outputs": [],
      "source": [
        "a"
      ]
    },
    {
      "cell_type": "code",
      "execution_count": null,
      "id": "08e0bd02",
      "metadata": {
        "id": "08e0bd02"
      },
      "outputs": [],
      "source": [
        "a[1]"
      ]
    },
    {
      "cell_type": "code",
      "execution_count": null,
      "id": "22825e73",
      "metadata": {
        "id": "22825e73"
      },
      "outputs": [],
      "source": [
        "a[-2]"
      ]
    },
    {
      "cell_type": "code",
      "execution_count": null,
      "id": "d0cb220c",
      "metadata": {
        "id": "d0cb220c"
      },
      "outputs": [],
      "source": [
        "a[4:]"
      ]
    },
    {
      "cell_type": "code",
      "execution_count": null,
      "id": "f13b02c0",
      "metadata": {
        "id": "f13b02c0"
      },
      "outputs": [],
      "source": []
    },
    {
      "cell_type": "code",
      "execution_count": null,
      "id": "dad17103",
      "metadata": {
        "id": "dad17103"
      },
      "outputs": [],
      "source": [
        "a"
      ]
    },
    {
      "cell_type": "code",
      "execution_count": null,
      "id": "9f6ed3b9",
      "metadata": {
        "id": "9f6ed3b9"
      },
      "outputs": [],
      "source": [
        "a[-1] = 'dravid'"
      ]
    },
    {
      "cell_type": "code",
      "execution_count": null,
      "id": "ae3f1f15",
      "metadata": {
        "id": "ae3f1f15"
      },
      "outputs": [],
      "source": [
        "a"
      ]
    },
    {
      "cell_type": "code",
      "execution_count": null,
      "id": "f3b47b57",
      "metadata": {
        "id": "f3b47b57"
      },
      "outputs": [],
      "source": [
        "a[3] = 'virat'"
      ]
    },
    {
      "cell_type": "code",
      "execution_count": null,
      "id": "6d2d4be2",
      "metadata": {
        "id": "6d2d4be2"
      },
      "outputs": [],
      "source": [
        "a"
      ]
    },
    {
      "cell_type": "code",
      "execution_count": null,
      "id": "b5cbdbe6",
      "metadata": {
        "id": "b5cbdbe6"
      },
      "outputs": [],
      "source": [
        "del a[-1]"
      ]
    },
    {
      "cell_type": "code",
      "execution_count": null,
      "id": "65283e39",
      "metadata": {
        "id": "65283e39"
      },
      "outputs": [],
      "source": [
        "a"
      ]
    },
    {
      "cell_type": "code",
      "execution_count": null,
      "id": "08691dc7",
      "metadata": {
        "id": "08691dc7"
      },
      "outputs": [],
      "source": [
        "a"
      ]
    },
    {
      "cell_type": "code",
      "execution_count": null,
      "id": "cb55479a",
      "metadata": {
        "id": "cb55479a"
      },
      "outputs": [],
      "source": [
        "a.append('ganguly')"
      ]
    },
    {
      "cell_type": "code",
      "execution_count": null,
      "id": "6580f924",
      "metadata": {
        "id": "6580f924"
      },
      "outputs": [],
      "source": [
        "a"
      ]
    },
    {
      "cell_type": "code",
      "execution_count": null,
      "id": "6eb34223",
      "metadata": {
        "id": "6eb34223"
      },
      "outputs": [],
      "source": []
    },
    {
      "cell_type": "code",
      "execution_count": null,
      "id": "876d5dd5",
      "metadata": {
        "id": "876d5dd5"
      },
      "outputs": [],
      "source": [
        "#dictionary"
      ]
    },
    {
      "cell_type": "code",
      "execution_count": null,
      "id": "db5d159f",
      "metadata": {
        "id": "db5d159f"
      },
      "outputs": [],
      "source": [
        "d = {1:'sachin', 2:'dravid', 3:'virat', 10:{1:1,2:3}}"
      ]
    },
    {
      "cell_type": "code",
      "execution_count": null,
      "id": "cc0b45ea",
      "metadata": {
        "id": "cc0b45ea"
      },
      "outputs": [],
      "source": [
        "d"
      ]
    },
    {
      "cell_type": "code",
      "execution_count": null,
      "id": "b1eb18f3",
      "metadata": {
        "id": "b1eb18f3"
      },
      "outputs": [],
      "source": [
        "d['a']"
      ]
    },
    {
      "cell_type": "code",
      "execution_count": null,
      "id": "8b86051d",
      "metadata": {
        "id": "8b86051d"
      },
      "outputs": [],
      "source": [
        "d[2]"
      ]
    },
    {
      "cell_type": "code",
      "execution_count": null,
      "id": "dcc96692",
      "metadata": {
        "id": "dcc96692"
      },
      "outputs": [],
      "source": [
        "g = d[10]"
      ]
    },
    {
      "cell_type": "code",
      "execution_count": null,
      "id": "4b89dc6c",
      "metadata": {
        "id": "4b89dc6c"
      },
      "outputs": [],
      "source": [
        "g"
      ]
    },
    {
      "cell_type": "code",
      "execution_count": null,
      "id": "ec1c7be9",
      "metadata": {
        "id": "ec1c7be9"
      },
      "outputs": [],
      "source": []
    },
    {
      "cell_type": "code",
      "execution_count": null,
      "id": "ba611adf",
      "metadata": {
        "id": "ba611adf"
      },
      "outputs": [],
      "source": [
        "#tuple"
      ]
    },
    {
      "cell_type": "code",
      "execution_count": null,
      "id": "b137837f",
      "metadata": {
        "id": "b137837f"
      },
      "outputs": [],
      "source": [
        "s = (1,2,3)"
      ]
    },
    {
      "cell_type": "code",
      "execution_count": null,
      "id": "08e722af",
      "metadata": {
        "id": "08e722af"
      },
      "outputs": [],
      "source": [
        "s"
      ]
    },
    {
      "cell_type": "code",
      "execution_count": null,
      "id": "9afd18d3",
      "metadata": {
        "id": "9afd18d3"
      },
      "outputs": [],
      "source": [
        "type(s)"
      ]
    },
    {
      "cell_type": "code",
      "execution_count": null,
      "id": "efbbc359",
      "metadata": {
        "id": "efbbc359"
      },
      "outputs": [],
      "source": [
        "s[1] = 'dravid'"
      ]
    },
    {
      "cell_type": "code",
      "execution_count": null,
      "id": "95ab2647",
      "metadata": {
        "id": "95ab2647"
      },
      "outputs": [],
      "source": [
        "s[:2]"
      ]
    },
    {
      "cell_type": "code",
      "execution_count": null,
      "id": "1eebf7e9",
      "metadata": {
        "id": "1eebf7e9"
      },
      "outputs": [],
      "source": [
        "#loops"
      ]
    },
    {
      "cell_type": "code",
      "execution_count": null,
      "id": "75e52a0a",
      "metadata": {
        "id": "75e52a0a"
      },
      "outputs": [],
      "source": [
        "print('abhishek')"
      ]
    },
    {
      "cell_type": "code",
      "execution_count": null,
      "id": "e9b79522",
      "metadata": {
        "id": "e9b79522"
      },
      "outputs": [],
      "source": [
        "for i in range(10):\n",
        "    print(i)\n",
        "    print('abhishek')\n",
        "print('a')"
      ]
    },
    {
      "cell_type": "code",
      "execution_count": null,
      "id": "3cd94c33",
      "metadata": {
        "id": "3cd94c33"
      },
      "outputs": [],
      "source": [
        "range(10)"
      ]
    },
    {
      "cell_type": "code",
      "execution_count": null,
      "id": "d6006edd",
      "metadata": {
        "id": "d6006edd"
      },
      "outputs": [],
      "source": [
        "a"
      ]
    },
    {
      "cell_type": "code",
      "execution_count": null,
      "id": "674335ec",
      "metadata": {
        "id": "674335ec"
      },
      "outputs": [],
      "source": [
        "for i in a:\n",
        "    print(i)"
      ]
    },
    {
      "cell_type": "code",
      "execution_count": null,
      "id": "611c55d5",
      "metadata": {
        "id": "611c55d5"
      },
      "outputs": [],
      "source": [
        "#while loop"
      ]
    },
    {
      "cell_type": "code",
      "execution_count": null,
      "id": "33387d62",
      "metadata": {
        "id": "33387d62",
        "outputId": "78283faa-ff30-4acb-87c6-a2bde3c66b67"
      },
      "outputs": [
        {
          "name": "stdout",
          "output_type": "stream",
          "text": [
            "2\n",
            "3\n",
            "4\n",
            "5\n",
            "6\n",
            "7\n",
            "8\n",
            "9\n"
          ]
        }
      ],
      "source": [
        "number  = 2\n",
        "while number < 10:\n",
        "    print(number)\n",
        "    number = number + 1"
      ]
    },
    {
      "cell_type": "code",
      "execution_count": null,
      "id": "374523e8",
      "metadata": {
        "id": "374523e8"
      },
      "outputs": [],
      "source": []
    },
    {
      "cell_type": "code",
      "execution_count": null,
      "id": "bc027bcd",
      "metadata": {
        "id": "bc027bcd"
      },
      "outputs": [],
      "source": [
        "#conditions"
      ]
    },
    {
      "cell_type": "code",
      "execution_count": null,
      "id": "f7ec34ed",
      "metadata": {
        "id": "f7ec34ed",
        "outputId": "c8ec8a56-0545-4872-8914-1aba385f29c4"
      },
      "outputs": [
        {
          "name": "stdout",
          "output_type": "stream",
          "text": [
            "just printing\n"
          ]
        }
      ],
      "source": [
        "if 11 < 10:\n",
        "    print(\"greater\")\n",
        "else:\n",
        "    print(\"just printing\")"
      ]
    },
    {
      "cell_type": "code",
      "execution_count": null,
      "id": "9d2eee29",
      "metadata": {
        "id": "9d2eee29",
        "outputId": "640031b7-54ba-4e0a-ec2e-2fdd406fbd5f"
      },
      "outputs": [
        {
          "data": {
            "text/plain": [
              "True"
            ]
          },
          "execution_count": 6,
          "metadata": {},
          "output_type": "execute_result"
        }
      ],
      "source": [
        "1 < 10"
      ]
    },
    {
      "cell_type": "code",
      "execution_count": null,
      "id": "4adeb2c1",
      "metadata": {
        "id": "4adeb2c1",
        "outputId": "9482e0d5-fe89-4205-8c6a-1d7008682a9e"
      },
      "outputs": [
        {
          "data": {
            "text/plain": [
              "False"
            ]
          },
          "execution_count": 10,
          "metadata": {},
          "output_type": "execute_result"
        }
      ],
      "source": [
        "11 < 10"
      ]
    },
    {
      "cell_type": "code",
      "execution_count": null,
      "id": "9bd80624",
      "metadata": {
        "id": "9bd80624"
      },
      "outputs": [],
      "source": [
        "maths = 60"
      ]
    },
    {
      "cell_type": "code",
      "execution_count": null,
      "id": "8da58db1",
      "metadata": {
        "id": "8da58db1",
        "outputId": "41193327-adb9-470d-82ea-02a171c4db16"
      },
      "outputs": [
        {
          "name": "stdout",
          "output_type": "stream",
          "text": [
            "rank\n"
          ]
        }
      ],
      "source": [
        "if maths < 40:\n",
        "    print(\"fail\")\n",
        "elif maths <= 80:\n",
        "    print(\"rank\")\n",
        "elif maths >= 60:\n",
        "    print('first class')\n",
        "else:\n",
        "    print(\"pass\")"
      ]
    },
    {
      "cell_type": "code",
      "execution_count": null,
      "id": "6549d927",
      "metadata": {
        "id": "6549d927"
      },
      "outputs": [],
      "source": []
    },
    {
      "cell_type": "code",
      "execution_count": null,
      "id": "e62b0752",
      "metadata": {
        "id": "e62b0752"
      },
      "outputs": [],
      "source": [
        "number = 5"
      ]
    },
    {
      "cell_type": "code",
      "execution_count": null,
      "id": "7f714e30",
      "metadata": {
        "id": "7f714e30",
        "outputId": "4435d630-e9ca-4a18-a075-feedd816c99a"
      },
      "outputs": [
        {
          "name": "stdout",
          "output_type": "stream",
          "text": [
            "odd\n"
          ]
        }
      ],
      "source": [
        "if number % 2 == 0:\n",
        "    print(\"even\")\n",
        "else:\n",
        "    print('odd')"
      ]
    },
    {
      "cell_type": "code",
      "execution_count": null,
      "id": "f6e80642",
      "metadata": {
        "id": "f6e80642"
      },
      "outputs": [],
      "source": [
        "lst = [1,2,3,4,5]"
      ]
    },
    {
      "cell_type": "code",
      "execution_count": null,
      "id": "4ced2d24",
      "metadata": {
        "id": "4ced2d24",
        "outputId": "0427b39e-2c0f-4d9c-cff2-bae623cee7a4"
      },
      "outputs": [
        {
          "name": "stdout",
          "output_type": "stream",
          "text": [
            "2\n",
            "4\n"
          ]
        }
      ],
      "source": [
        "odd = []\n",
        "even = []\n",
        "for i in lst:\n",
        "    if i % 2 == 0:\n",
        "        print(i)\n",
        "        even.append(i)\n",
        "    else:\n",
        "        odd.append(i)"
      ]
    },
    {
      "cell_type": "code",
      "execution_count": null,
      "id": "1b0a5a65",
      "metadata": {
        "id": "1b0a5a65",
        "outputId": "58b50d19-e5ea-46a7-a8d9-c1a4ca284dc3"
      },
      "outputs": [
        {
          "data": {
            "text/plain": [
              "[1, 3, 5]"
            ]
          },
          "execution_count": 44,
          "metadata": {},
          "output_type": "execute_result"
        }
      ],
      "source": [
        "odd"
      ]
    },
    {
      "cell_type": "code",
      "execution_count": null,
      "id": "8e9d3d51",
      "metadata": {
        "id": "8e9d3d51",
        "outputId": "a6e8bf0e-c0fa-46ba-8c6a-630e78ba67eb"
      },
      "outputs": [
        {
          "data": {
            "text/plain": [
              "[2, 4]"
            ]
          },
          "execution_count": 45,
          "metadata": {},
          "output_type": "execute_result"
        }
      ],
      "source": [
        "even"
      ]
    },
    {
      "cell_type": "code",
      "execution_count": null,
      "id": "e9184e90",
      "metadata": {
        "id": "e9184e90"
      },
      "outputs": [],
      "source": []
    }
  ],
  "metadata": {
    "kernelspec": {
      "display_name": "Python 3 (ipykernel)",
      "language": "python",
      "name": "python3"
    },
    "language_info": {
      "codemirror_mode": {
        "name": "ipython",
        "version": 3
      },
      "file_extension": ".py",
      "mimetype": "text/x-python",
      "name": "python",
      "nbconvert_exporter": "python",
      "pygments_lexer": "ipython3",
      "version": "3.7.8"
    },
    "colab": {
      "provenance": [],
      "include_colab_link": true
    }
  },
  "nbformat": 4,
  "nbformat_minor": 5
}